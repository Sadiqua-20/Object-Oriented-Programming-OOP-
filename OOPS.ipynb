{
  "nbformat": 4,
  "nbformat_minor": 0,
  "metadata": {
    "colab": {
      "provenance": []
    },
    "kernelspec": {
      "name": "python3",
      "display_name": "Python 3"
    },
    "language_info": {
      "name": "python"
    }
  },
  "cells": [
    {
      "cell_type": "markdown",
      "source": [
        "# **PYTHON OOPS QUESTIONS**"
      ],
      "metadata": {
        "id": "qR6Lw8aluRAj"
      }
    },
    {
      "cell_type": "markdown",
      "source": [
        "## Q1. What is Object-Oriented Programming (OOP)?"
      ],
      "metadata": {
        "id": "v0h4vwamui4G"
      }
    },
    {
      "cell_type": "markdown",
      "source": [
        "ANS 1.\n",
        "\n",
        "- OOP (Object-Oriented Programming) in Python is a programming paradigm that organizes code around objects rather than functions. It allows developers to create reusable and modular code by defining classes and creating objects based on those classes.\n",
        "\n",
        "- OOP in Python helps in structuring large projects, code reusability, and better maintainability.\n"
      ],
      "metadata": {
        "id": "7F9RVkuYurk2"
      }
    },
    {
      "cell_type": "markdown",
      "source": [
        "## Q2.  What is a class in OOP?"
      ],
      "metadata": {
        "id": "IxxsDUI2usEl"
      }
    },
    {
      "cell_type": "markdown",
      "source": [
        "ANS 2.\n",
        "\n",
        "- A **class** in Object-Oriented Programming (OOP) is a blueprint for creating objects. It defines the **attributes** (variables) and **behaviors** (methods) that the **objects** created from the class will have.\n",
        "- **Key Points About a Class**:\n",
        " - It acts as a template for objects.\n",
        " - Defines **attributes** (data members) and **methods** (functions).\n",
        " - **Objects** are instances of a **class**.\n",
        "\n",
        "- The class is a user-defined data structure that combines the methods and data members into a single entity. We can make as many objects as we desire using a class.\n",
        "- Example:\n"
      ],
      "metadata": {
        "id": "-gvRAzdGB2W1"
      }
    },
    {
      "cell_type": "code",
      "source": [
        "class Dog: # Dog is a class\n",
        "  def __init__(self, name):\n",
        "    self.name = name  # Attribute\n",
        "\n",
        "  def bark(self):\n",
        "    return \"Woof!\"\n",
        "\n",
        "# Creating an object (instance) of the Dog class\n",
        "my_dog = Dog(\"Tommy\")\n",
        "\n",
        "print(my_dog.name)\n",
        "print(my_dog.bark())"
      ],
      "metadata": {
        "colab": {
          "base_uri": "https://localhost:8080/"
        },
        "id": "hX0cFwHRAvbY",
        "outputId": "b75d8795-6308-4a45-8df4-08ad6cf17d7e"
      },
      "execution_count": null,
      "outputs": [
        {
          "output_type": "stream",
          "name": "stdout",
          "text": [
            "Tommy\n",
            "Woof!\n"
          ]
        }
      ]
    },
    {
      "cell_type": "markdown",
      "source": [
        "## Q3.  What is an object in OOP?"
      ],
      "metadata": {
        "id": "edam1fbmuyOX"
      }
    },
    {
      "cell_type": "markdown",
      "source": [
        "ANS 3.\n",
        "\n",
        "- An **object** in OOP (Object-Oriented Programming) is an **instance** of a class. It represents a specific entity created using the blueprint provided by a class. Each object has its own attributes (data) and can perform methods (functions) defined in the class.\n",
        "\n",
        "- **Key Characteristics of an Object**:\n",
        " 1. **Identity** – Each object has a unique identity in memory.\n",
        " 2. **State (Attributes)** – The data stored in an object.\n",
        " 3. **Behavior (Methods)** – The actions an object can perform.\n",
        "\n",
        "- Example :"
      ],
      "metadata": {
        "id": "5z3k-2G48OW5"
      }
    },
    {
      "cell_type": "code",
      "source": [
        "class Dog:\n",
        "  def __init__(self, name):\n",
        "    self.name = name  # Attribute\n",
        "\n",
        "  def bark(self):  # Method\n",
        "    return \"Woof!\"\n",
        "\n",
        "# Creating an object (instance) of the Dog class\n",
        "my_dog = Dog(\"Tommy\")\n",
        "\n",
        "print(my_dog.name)\n",
        "print(my_dog.bark())"
      ],
      "metadata": {
        "colab": {
          "base_uri": "https://localhost:8080/"
        },
        "id": "wjJ1PqKu_-ny",
        "outputId": "a2a34318-21ec-41c8-d298-7b3d0ced7ded"
      },
      "execution_count": null,
      "outputs": [
        {
          "output_type": "stream",
          "name": "stdout",
          "text": [
            "Tommy\n",
            "Woof!\n"
          ]
        }
      ]
    },
    {
      "cell_type": "markdown",
      "source": [
        "## Q4. What is the difference between abstraction and encapsulation?"
      ],
      "metadata": {
        "id": "aEJGlODVu3Nn"
      }
    },
    {
      "cell_type": "markdown",
      "source": [
        "ANS 4.\n",
        "\n",
        "**Abstraction** and **Encapsulation** are both fundamental concepts in OOP but serve different purposes.  \n",
        "\n",
        "1. **Abstraction** (Hiding Implementation Details)  :\n",
        "- *Definition:* Hides the internal complexity and shows only the relevant details to the user.  \n",
        "- *Purpose:* Simplifies interaction by exposing only necessary methods and properties.  \n",
        "- *Implementation:* Achieved using *abstract classes* and *interfaces* (with ABC module in Python).  \n",
        "- Example:\n"
      ],
      "metadata": {
        "id": "8cOkCdiEBKqK"
      }
    },
    {
      "cell_type": "code",
      "source": [
        "from abc import ABC, abstractmethod\n",
        "\n",
        "class Animal(ABC):  # Abstract class\n",
        "  @abstractmethod\n",
        "  def make_sound(self):\n",
        "    pass  # No implementation here\n",
        "\n",
        "class Dog(Animal):\n",
        "  def make_sound(self):\n",
        "    return \"Bark\"\n",
        "\n",
        "# dog = Animal()  # This will cause an error (can't instantiate abstract class)\n",
        "dog = Dog()\n",
        "print(dog.make_sound())\n",
        "# Here, Animal is an abstract class, forcing subclasses like Dog to provide their own implementation for make_sound()."
      ],
      "metadata": {
        "colab": {
          "base_uri": "https://localhost:8080/"
        },
        "id": "bSqmU0yXDdWS",
        "outputId": "d8b7ff58-5b76-43df-a1cd-0a53776da36d"
      },
      "execution_count": null,
      "outputs": [
        {
          "output_type": "stream",
          "name": "stdout",
          "text": [
            "Bark\n"
          ]
        }
      ]
    },
    {
      "cell_type": "markdown",
      "source": [
        "2. **Encapsulation** (Restricting Direct Access) :\n",
        "- *Definition:* Restricts access to certain details of an object and prevents unintended modifications.  \n",
        "- *Purpose:* Protects data and ensures control over how it is modified.  \n",
        "- *Implementation:* Achieved using *private (__variable) and protected (_variable) members*.  \n",
        "- Example:"
      ],
      "metadata": {
        "id": "5nr5_VPMDkBp"
      }
    },
    {
      "cell_type": "code",
      "source": [
        "class BankAccount:\n",
        "  def __init__(self, balance):\n",
        "    self.__balance = balance  # Private attribute using __\n",
        "\n",
        "  def deposit(self, amount):\n",
        "    self.__balance += amount\n",
        "\n",
        "  def get_balance(self):\n",
        "    return self.__balance  # Controlled access\n",
        "\n",
        "account = BankAccount(1000)\n",
        "# print(account.__balance)  # This will cause an error (private variable)\n",
        "print(account.get_balance())\n",
        "# Here, __balance is private, preventing direct access, and can only be modified using deposit() or accessed using get_balance()."
      ],
      "metadata": {
        "colab": {
          "base_uri": "https://localhost:8080/"
        },
        "id": "qT5biuxRD59E",
        "outputId": "0c305dca-1466-4381-96cf-d8439053f80c"
      },
      "execution_count": null,
      "outputs": [
        {
          "output_type": "stream",
          "name": "stdout",
          "text": [
            "1000\n"
          ]
        }
      ]
    },
    {
      "cell_type": "markdown",
      "source": [
        "## Q5. What are dunder methods in Python?\n"
      ],
      "metadata": {
        "id": "NXE6ML35u_oY"
      }
    },
    {
      "cell_type": "markdown",
      "source": [
        "ANS 5.\n",
        "\n",
        "- **Dunder methods** (short for **double underscore methods**) are **special methods** in Python that start and end with double underscores (e.g., `__init__`, `__str__`). They allow objects to have built-in behaviors like initialization, string representation, and operator overloading.\n",
        "\n",
        "- They are also called **magic methods**.\n",
        "\n",
        "- Some common **dunder methods** are:\n",
        " 1. `__init__` (constructor)\n",
        " 2. `__str__` (string representation)\n",
        " 3. `__eq__` (equality check =)\n",
        " 4. `__repr__` (official string representation)\n",
        " 5. `__len__` (length of an object)\n",
        " 6. `__add__` (operator overloading for +)"
      ],
      "metadata": {
        "id": "5Uuwe7F5EzMS"
      }
    },
    {
      "cell_type": "markdown",
      "source": [
        "## Q6. Explain the concept of inheritance in OOP."
      ],
      "metadata": {
        "id": "RIUyq4xivFOY"
      }
    },
    {
      "cell_type": "markdown",
      "source": [
        "ANS 6.\n",
        "\n",
        "- **Inheritance** is an Object-Oriented Programming (OOP) concept where a class (child class) derives or inherits properties and behaviors from another class (parent class).\n",
        "- It promotes code reusability and extensibility.\n",
        "- **Types of Inheritance** in Python:\n",
        " 1. **Single Inheritance** - One child class inherits from one parent class.\n",
        " 2. **Multiple Inheritance** - A child class inherits from multiple parent classes.\n",
        " 3. **Multilevel Inheritance** - A class inherits from another class, which itself is inherited from another class.\n",
        " 4. **Hierarchical Inheritance** - Multiple child classes inherit from a single parent class.\n",
        " 5. **Hybrid Inheritance** - A combination of multiple inheritance types."
      ],
      "metadata": {
        "id": "IwOdeHBdHEBx"
      }
    },
    {
      "cell_type": "markdown",
      "source": [
        "## Q7. What is polymorphism in OOP?"
      ],
      "metadata": {
        "id": "nRcqUY7gvJop"
      }
    },
    {
      "cell_type": "markdown",
      "source": [
        "ANS 7.\n",
        "\n",
        "- **Polymorphism** (Greek: poly = many, morph = forms) is an OOP concept that allows different classes to be treated as the same type, enabling *a single interface* to work with multiple data types.\n",
        "- In simple words, polymorphism enables us to carry out a single activity in a variety of ways.\n",
        "- Polymorphism is the capacity to assume several shapes.  \n",
        "\n",
        "- **Types of Polymorphism in Python:**\n",
        " 1. **Method Overriding** (Runtime Polymorphism)  \n",
        " 2. **Method Overloading** (Not Native to Python but Achievable)"
      ],
      "metadata": {
        "id": "epEB3n8sEawG"
      }
    },
    {
      "cell_type": "markdown",
      "source": [
        "## Q8. How is encapsulation achieved in Python?"
      ],
      "metadata": {
        "id": "OAxp7L9gvPIp"
      }
    },
    {
      "cell_type": "markdown",
      "source": [
        "ANS 8.\n",
        "\n",
        "Python achieves **encapsulation** using **access modifiers**:\n",
        "1. **Public** (name) - Accessible anywhere.\n",
        "2. **Protected** (_name) - Suggests restricted access (convention, not enforced).\n",
        "3. **Private** (__name) - Hidden from direct access (name mangling applies).\n",
        "\n",
        "- Example:"
      ],
      "metadata": {
        "id": "XpTIug-BKXtP"
      }
    },
    {
      "cell_type": "code",
      "source": [
        "class Person:\n",
        "  def __init__(self, name, age):\n",
        "    self.name = name  # Public attribute\n",
        "    self._age = age  # Protected attribute\n",
        "    self.__salary = 50000  # Private attribute\n",
        "\n",
        "# Public method\n",
        "  def introduce(self):\n",
        "    print(f\"Hi, I'm {self.name} and I'm {self._age} years old.\")\n",
        "\n",
        "# Private method\n",
        "  def __update_salary(self, amount):\n",
        "    self.__salary += amount\n",
        "\n",
        "# Getter for private attribute\n",
        "  def get_salary(self):\n",
        "    return self.__salary\n",
        "\n",
        "# Creating an instance of the Person class\n",
        "person = Person(\"Sadiqua\", 24)\n",
        "\n",
        "# Accessing public attribute and method\n",
        "print(person.name)\n",
        "person.introduce()\n",
        "\n",
        "# Accessing protected attribute (should be avoided but works)\n",
        "print(person._age)\n",
        "\n",
        "# Accessing private attribute directly results in an error\n",
        "# print(person._salary)  # AttributeError: 'Person' object has no attribute '_salary'\n",
        "\n",
        "# Correct way to access the private attribute using a getter\n",
        "print(person.get_salary())"
      ],
      "metadata": {
        "colab": {
          "base_uri": "https://localhost:8080/"
        },
        "id": "OCKNBRY5LjEX",
        "outputId": "6b7daf19-5ea4-4e2f-8437-5f1b8761645b"
      },
      "execution_count": null,
      "outputs": [
        {
          "output_type": "stream",
          "name": "stdout",
          "text": [
            "Sadiqua\n",
            "Hi, I'm Sadiqua and I'm 24 years old.\n",
            "24\n",
            "50000\n"
          ]
        }
      ]
    },
    {
      "cell_type": "markdown",
      "source": [
        "## Q9. What is a constructor in Python?"
      ],
      "metadata": {
        "id": "sKPWcPh0vWci"
      }
    },
    {
      "cell_type": "markdown",
      "source": [
        "ANS 9.\n",
        "\n",
        "- A **constructor** is a special method in Python that is automatically called when an object of a class is created. Its primary purpose is to initialize the object's attributes and set up the object when it's first created.\n",
        "\n",
        "- In Python, the constructor is defined using the special method `__init__()`.\n",
        "\n",
        "- Syntax of Constructor:\n",
        "\n",
        "  ```\n",
        "  class ClassName:\n",
        "    def __init__(self, parameter1, parameter2): #Constructor\n",
        "      self.attribute1 = parameter1\n",
        "      self.attribute2 = parameter2\n",
        "  ```\n",
        "\n",
        "- **Key Points**:\n",
        " - The `__init__()` method is called when an object is created from a class.\n",
        " - The **self** parameter refers to the instance of the object being created.\n",
        " - It can take any number of parameters, but it must have self as the first parameter."
      ],
      "metadata": {
        "id": "wba_dRs6Osl8"
      }
    },
    {
      "cell_type": "markdown",
      "source": [
        "## Q10. What are class and static methods in Python?"
      ],
      "metadata": {
        "id": "864cXeS-va2y"
      }
    },
    {
      "cell_type": "markdown",
      "source": [
        "ANS 10.\n",
        "\n",
        "1. **Class Method:**\n",
        "- A class method is a method that takes the class as its first argument (usually named cls) rather than an instance of the class. It can modify the class state and is used to operate on class-level attributes, not instance-level attributes.\n",
        "  - Declared with **`@classmethod`** decorator.\n",
        "  - Can access and modify class-level attributes but cannot access instance-specific data.\n",
        "  - It is called on the class itself, rather than an instance of the class.\n",
        "- Example:"
      ],
      "metadata": {
        "id": "90qhbpU7RQF9"
      }
    },
    {
      "cell_type": "code",
      "source": [
        "class Car:\n",
        "  wheels = 4  # Class variable\n",
        "\n",
        "  def __init__(self, brand):\n",
        "    self.brand = brand\n",
        "\n",
        "  @classmethod\n",
        "  def get_wheels(cls):\n",
        "    return cls.wheels\n",
        "\n",
        "# Call class method using the class(without instantiating)\n",
        "print(Car.get_wheels())\n",
        "\n",
        "# Create an object and call class method\n",
        "car = Car(\"Toyota\")\n",
        "print(car.get_wheels())"
      ],
      "metadata": {
        "colab": {
          "base_uri": "https://localhost:8080/"
        },
        "id": "NKC6lCA1UMSB",
        "outputId": "6b0ac6a2-0cad-4617-8145-e28692fd5316"
      },
      "execution_count": null,
      "outputs": [
        {
          "output_type": "stream",
          "name": "stdout",
          "text": [
            "4\n",
            "4\n"
          ]
        }
      ]
    },
    {
      "cell_type": "markdown",
      "source": [
        "2. **Static Method:**\n",
        "- A static method is a method that does not depend on the instance or the class. It cannot access or modify class or instance variables. Static methods are just like normal functions, but they belong to the class's namespace.\n",
        "\n",
        " - Declared with **`@staticmethod`** decorator.\n",
        " - Does not take self or cls as the first argument.\n",
        " - Used when we need a utility function that operates independently of class or instance-specific data.\n",
        "\n",
        "- Example:"
      ],
      "metadata": {
        "id": "AyxgT3KVUljL"
      }
    },
    {
      "cell_type": "code",
      "source": [
        "class MathOperations:\n",
        "  @staticmethod\n",
        "  def add(a, b):\n",
        "    return a + b\n",
        "\n",
        "  @staticmethod\n",
        "  def multiply(a, b):\n",
        "    return a * b\n",
        "\n",
        "# Call static methods using the class\n",
        "print(MathOperations.add(3, 5))\n",
        "print(MathOperations.multiply(3, 5))\n",
        "\n",
        "# Call static methods using an instance (though not recommended)\n",
        "math = MathOperations()\n",
        "print(math.add(2, 4))"
      ],
      "metadata": {
        "colab": {
          "base_uri": "https://localhost:8080/"
        },
        "id": "444a3R-7VhbS",
        "outputId": "fe91e5cf-d4b7-4acc-c8b6-fa32bd080a18"
      },
      "execution_count": null,
      "outputs": [
        {
          "output_type": "stream",
          "name": "stdout",
          "text": [
            "8\n",
            "15\n",
            "6\n"
          ]
        }
      ]
    },
    {
      "cell_type": "markdown",
      "source": [
        "## Q11.  What is method overloading in Python?"
      ],
      "metadata": {
        "id": "LNiyW5wwvizs"
      }
    },
    {
      "cell_type": "markdown",
      "source": [
        "ANS 11.\n",
        "\n",
        "- Method overloading in Python refers to the ability to define multiple methods in the same class with the same name but different parameters. However, unlike some other programming languages (like Java or C++), Python does not support true method overloading. Instead, Python achieves similar functionality using default arguments or variable-length arguments (`*args`  and `**kwargs`).\n",
        "\n",
        "- Example:"
      ],
      "metadata": {
        "id": "pDD1-HlzMU1B"
      }
    },
    {
      "cell_type": "code",
      "source": [
        "class Example:\n",
        "    def display(self, *args):\n",
        "        print(f\"Arguments received: {args}\")\n",
        "\n",
        "obj = Example()\n",
        "obj.display()           # No arguments\n",
        "obj.display(10)         # One argument\n",
        "obj.display(10, 20, 30) # Multiple arguments"
      ],
      "metadata": {
        "colab": {
          "base_uri": "https://localhost:8080/"
        },
        "id": "7k0T4BVSPoU2",
        "outputId": "a188b9aa-d375-4fbd-d328-c84540692349"
      },
      "execution_count": null,
      "outputs": [
        {
          "output_type": "stream",
          "name": "stdout",
          "text": [
            "Arguments received: ()\n",
            "Arguments received: (10,)\n",
            "Arguments received: (10, 20, 30)\n"
          ]
        }
      ]
    },
    {
      "cell_type": "markdown",
      "source": [
        "## Q12.  What is method overriding in OOP?"
      ],
      "metadata": {
        "id": "RY5Vw-nfvqFc"
      }
    },
    {
      "cell_type": "markdown",
      "source": [
        "ANS 12.\n",
        "\n",
        "- **Method overriding** occurs when a subclass provides a specific implementation of a method that is already defined in its parent class. The overridden method in the child class must have the same name and parameters as the method in the parent class. This allows the child class to modify or extend the behavior of the parent class method.\n",
        "- Example:"
      ],
      "metadata": {
        "id": "ztI7jgulPtoX"
      }
    },
    {
      "cell_type": "code",
      "source": [
        "class Parent:\n",
        "    def show_message(self):\n",
        "        print(\"This is the parent class method.\")\n",
        "\n",
        "class Child(Parent):\n",
        "    def show_message(self):\n",
        "        print(\"This is the child class method (overriding parent method).\")\n",
        "\n",
        "# Creating objects\n",
        "parent_obj = Parent()\n",
        "child_obj = Child()\n",
        "\n",
        "# Calling methods\n",
        "parent_obj.show_message()\n",
        "child_obj.show_message()"
      ],
      "metadata": {
        "colab": {
          "base_uri": "https://localhost:8080/"
        },
        "id": "5-fRykEcQa2M",
        "outputId": "c2d6055a-d676-430c-eb6a-c252dba80bf7"
      },
      "execution_count": 8,
      "outputs": [
        {
          "output_type": "stream",
          "name": "stdout",
          "text": [
            "This is the parent class method.\n",
            "This is the child class method (overriding parent method).\n"
          ]
        }
      ]
    },
    {
      "cell_type": "markdown",
      "source": [
        "## Q13. What is a property decorator in Python?\n"
      ],
      "metadata": {
        "id": "X6c_gg2WvqM8"
      }
    },
    {
      "cell_type": "markdown",
      "source": [
        "ANS 13.\n",
        "\n",
        "- A **property decorator** (**`@property`**) is used to define getter, setter, and deleter methods in a class in a Pythonic way. It allows controlled access to instance attributes while maintaining the syntax of direct attribute access.\n",
        "- Example:"
      ],
      "metadata": {
        "id": "WfpuWJ0bQr9u"
      }
    },
    {
      "cell_type": "code",
      "source": [
        "class Person:\n",
        "  def __init__(self, name):\n",
        "    self._name = name  # Private attribute (by convention)\n",
        "\n",
        "  @property\n",
        "  def name(self):\n",
        "    return self._name\n",
        "\n",
        "  @name.setter\n",
        "  def name(self, new_name):\n",
        "    print(\"Setting name...\")\n",
        "    self._name = new_name\n",
        "\n",
        "  @name.deleter\n",
        "  def name(self):\n",
        "    print(\"Deleting name...\")\n",
        "    del self._name\n",
        "\n",
        "# Usage\n",
        "p = Person(\"Sadiqua\")\n",
        "print(p.name)  # Calls getter\n",
        "\n",
        "p.name = \"Quadir\"  # Calls setter\n",
        "print(p.name)\n",
        "\n",
        "del p.name  # Calls deleter"
      ],
      "metadata": {
        "colab": {
          "base_uri": "https://localhost:8080/"
        },
        "id": "bwsi8wF0VJ_k",
        "outputId": "99189c8b-9c2f-4090-a2cc-75b8d069d6c3"
      },
      "execution_count": null,
      "outputs": [
        {
          "output_type": "stream",
          "name": "stdout",
          "text": [
            "Sadiqua\n",
            "Setting name...\n",
            "Quadir\n",
            "Deleting name...\n"
          ]
        }
      ]
    },
    {
      "cell_type": "markdown",
      "source": [
        "## Q14. Why is polymorphism important in OOP?"
      ],
      "metadata": {
        "id": "3HZmTrmVv29m"
      }
    },
    {
      "cell_type": "markdown",
      "source": [
        "ANS 14.\n",
        "\n",
        "Following are the reasons why polymorphism is important in OOP:\n",
        "1. **Code Reusability:** We can write general code that works with multiple types of objects.\n",
        "\n",
        "2. **Flexibility & Extensibility:** New classes can be added without modifying existing code.\n",
        "\n",
        "3. **Simplifies Code & Reduces Redundancy:** The same method name can be used across different classes, avoiding the need for multiple method names."
      ],
      "metadata": {
        "id": "KQ2OvBZxVulf"
      }
    },
    {
      "cell_type": "markdown",
      "source": [
        "## Q15. What is an abstract class in Python?"
      ],
      "metadata": {
        "id": "Ks8XWmrrv80e"
      }
    },
    {
      "cell_type": "markdown",
      "source": [
        "ANS 15.\n",
        "\n",
        "- An **abstract class** is a class that cannot be instantiated and serves as a blueprint for other classes. It defines abstract methods that must be implemented by any subclass. Abstract classes are useful when we want to enforce a certain structure across multiple related classes.\n",
        "\n",
        "- In Python, abstract classes are created using the `ABC` (Abstract Base Class) module from the `abc` package."
      ],
      "metadata": {
        "id": "zBd0FM6tXQ9Z"
      }
    },
    {
      "cell_type": "markdown",
      "source": [
        "## Q16. What are the advantages of OOP?"
      ],
      "metadata": {
        "id": "uCuqRfVzv_zn"
      }
    },
    {
      "cell_type": "markdown",
      "source": [
        "ANS 16.\n",
        "\n",
        "**Object-Oriented Programming (OOP)** is a programming paradigm that organizes code into *objects* that contain both data (*attributes) and behavior (methods*). Python, being an **OOP-friendly language**, provides many benefits when using this approach.\n",
        "\n",
        "\n",
        "1. **Code Reusability (Inheritance):**\n",
        " - OOP allows us to reuse existing code through inheritance, reducing duplication.\n",
        "  \n",
        "2. **Encapsulation (Data Hiding & Protection):**\n",
        " - Encapsulation allows us to restrict access to certain parts of an object to prevent unintended modifications.\n",
        "\n",
        "3. **Polymorphism (Flexibility & Code Simplification):**\n",
        " - The same interface (method name) can be used for different objects.\n",
        "\n",
        "4. **Abstraction (Hiding Implementation Details):**\n",
        " - Abstraction lets us focus on what an object does, rather than how it does it.\n",
        "\n",
        "5. **Modularity & Maintainability:**\n",
        " - OOP helps *organize code into separate classes*, making it easier to manage and update.\n",
        " - If a bug appears in one class, it can be fixed without affecting the entire system.\n",
        "\n",
        "6. **Scalability & Extensibility:**\n",
        " - OOP makes it easy to add *new features* without changing the entire codebase.\n",
        " - Example: We can add new types of vehicles (Bike, Truck) by inheriting from Vehicle.\n",
        "\n"
      ],
      "metadata": {
        "id": "ioH9LqRLYiyS"
      }
    },
    {
      "cell_type": "markdown",
      "source": [
        "## Q17. What is the difference between a class variable and an instance variable?"
      ],
      "metadata": {
        "id": "62o7CF5gwJiA"
      }
    },
    {
      "cell_type": "markdown",
      "source": [
        "ANS 17.\n",
        "\n",
        "Key differences between a **class variable** and an **instance variable** are:\n",
        "\n",
        "1. **Definition:**\n",
        " - A class variable is a variable shared across all instances of a class while an instance variable is a variable unique to each instance of a class.\n",
        "\n",
        "2. **Declaration:**\n",
        " - Class variable is declared inside a class but outside any method while an instance variable is declared inside the class, usually in the `__init__` method.\n",
        "\n",
        "3. **Scope:**  \n",
        " - Class variables belong to the class and are shared by all instances while instance variables belong to an instance and are unique to each object.  \n",
        "\n",
        "4. **Modification Impact:**  \n",
        " - Changing a class variable affects all instances while changing an instance variable affects only that specific instance.\n",
        "\n",
        "5. **Accessed using:**\n",
        " - Class variables are accessed using `ClassName.variable` or `object.variable` while instance variables are accessed using `object.variable`.\n"
      ],
      "metadata": {
        "id": "GPenxCqOn2lP"
      }
    },
    {
      "cell_type": "markdown",
      "source": [
        "## Q18.  What is multiple inheritance in Python?"
      ],
      "metadata": {
        "id": "Mi1JLlLjAJoK"
      }
    },
    {
      "cell_type": "markdown",
      "source": [
        "ANS 18.\n",
        "\n",
        "**Multiple inheritance** is a feature in Python where a class can inherits attributes and methods from *more than one parent class*. This allows a child class to inherit functionalities from multiple sources.  \n",
        "\n",
        "- **Syntax of Multiple Inheritance:**\n",
        "\n",
        "  ```\n",
        "  class Parent1:\n",
        "    def method1(self):\n",
        "      print(\"Method from Parent1\")\n",
        "\n",
        "  class Parent2:\n",
        "    def method2(self):\n",
        "      print(\"Method from Parent2\")\n",
        "\n",
        "  class Child(Parent1, Parent2):  # Inheriting from both Parent1 and Parent2\n",
        "    def method3(self):\n",
        "      print(\"Method from Child\")\n",
        "  \n",
        "  # Creating an object of Child class\n",
        "  obj = Child()\n",
        "  obj.method1()  # Output: Method from Parent1\n",
        "  obj.method2()  # Output: Method from Parent2\n",
        "  obj.method3()  # Output: Method from Child\n",
        "  ```\n",
        "\n",
        "- How It Works:\n",
        " - The Child class *inherits* from both Parent1 and Parent2, so it has access to both method1() and method2().   \n",
        " - This is useful when a class needs functionalities from multiple sources."
      ],
      "metadata": {
        "id": "e-Sha7dp1eQ5"
      }
    },
    {
      "cell_type": "markdown",
      "source": [
        "## Q19. Explain the purpose of `__str__` and `__repr__` methods in Python?"
      ],
      "metadata": {
        "id": "nf3MKVTUAQyj"
      }
    },
    {
      "cell_type": "markdown",
      "source": [
        "ANS 19.\n",
        "\n",
        "In Python, `__str__` and `__repr__` are special methods (also called dunder methods) that define how an object is represented as a string.    \n",
        "\n",
        "1. **`__str__` (For Readable Output):**\n",
        "- Used to return a human-readable string representation of an object.\n",
        "- Called when we use print(obj) or str(obj).\n",
        "- Should be easy to read and user-friendly.\n",
        "\n",
        "2. **`__repr__` (For Debugging and Developers):**\n",
        "- Used to return a formal, unambiguous string representation of an object.\n",
        "- Called when using repr(obj), debugging, or in the interactive console.\n",
        "- Should ideally return a string that can be used to recreate the object.\n",
        "\n",
        "EXAMPLE:\n"
      ],
      "metadata": {
        "id": "_Q6Fj8IC3pCA"
      }
    },
    {
      "cell_type": "code",
      "source": [
        "class Person:\n",
        "  def __init__(self, name, age):\n",
        "    self.name = name\n",
        "    self.age = age\n",
        "\n",
        "  def __str__(self):\n",
        "    return f\"{self.name} is {self.age} years old.\"\n",
        "\n",
        "  def __repr__(self):\n",
        "    return f\"Person('{self.name}', {self.age})\"\n",
        "\n",
        "p = Person(\"Sadiqua\", 24)\n",
        "\n",
        "print(str(p))   # Calls __str__\n",
        "print(repr(p))  # Calls __repr__"
      ],
      "metadata": {
        "colab": {
          "base_uri": "https://localhost:8080/"
        },
        "id": "tsFgavsy7pWU",
        "outputId": "0cdd2ad3-41c7-40dc-e8b4-3840570aae03"
      },
      "execution_count": null,
      "outputs": [
        {
          "output_type": "stream",
          "name": "stdout",
          "text": [
            "Sadiqua is 24 years old.\n",
            "Person('Sadiqua', 24)\n"
          ]
        }
      ]
    },
    {
      "cell_type": "markdown",
      "source": [
        "## Q20. What is the significance of the `super()` function in Python?"
      ],
      "metadata": {
        "id": "7qDKIUkqAme9"
      }
    },
    {
      "cell_type": "markdown",
      "source": [
        "ANS 20.\n",
        "\n",
        "The **`super()`** function is used in inheritance to call a method from a parent class inside a child class. It helps in code reuse and ensures that the correct method is executed according to the *Method Resolution Order (MRO)*.\n",
        "\n",
        "- **Significance of `super()`:**\n",
        "\n",
        " 1. **Access Parent Class Methods** - Calls methods from a superclass without referring to the class name directly.\n",
        " 2. **Avoids Redundancy** - Prevents duplicating code by reusing parent class functionality.\n",
        " 3. **Supports Multiple Inheritance** - Ensures correct method execution order in *diamond inheritance* scenarios.\n"
      ],
      "metadata": {
        "id": "7l3sy4mW8sJC"
      }
    },
    {
      "cell_type": "markdown",
      "source": [
        "## Q21. What is the significance of the `__del__` method in Python?"
      ],
      "metadata": {
        "id": "MLhA4nDwAvtm"
      }
    },
    {
      "cell_type": "markdown",
      "source": [
        "ANS 21.\n",
        "\n",
        "The `__del__` method in Python is a destructor that is called when an object is about to be destroyed (i.e., when it is no longer referenced). It is primarily used for cleaning up resources like closing database connections, releasing memory, or deleting temporary files.\n",
        "\n",
        "- Example:"
      ],
      "metadata": {
        "id": "X9R-jNd03xoL"
      }
    },
    {
      "cell_type": "code",
      "source": [
        "class Example:\n",
        "  def __init__(self, name):\n",
        "    self.name = name\n",
        "    print(f\"Object {self.name} created.\")\n",
        "\n",
        "  def __del__(self):\n",
        "    print(f\"Object {self.name} destroyed.\")\n",
        "\n",
        "#Creating and deleting an object\n",
        "obj = Example(\"A\")\n",
        "del obj  # Explicitly deleting the object"
      ],
      "metadata": {
        "colab": {
          "base_uri": "https://localhost:8080/"
        },
        "id": "l0AMMizw4h-A",
        "outputId": "96f05d4d-c0b7-4633-ef29-0308009900c4"
      },
      "execution_count": 1,
      "outputs": [
        {
          "output_type": "stream",
          "name": "stdout",
          "text": [
            "Object A created.\n",
            "Object A destroyed.\n"
          ]
        }
      ]
    },
    {
      "cell_type": "markdown",
      "source": [
        "## Q22. What is the difference between @staticmethod and @classmethod in Python?"
      ],
      "metadata": {
        "id": "4xNb6tAJA5I2"
      }
    },
    {
      "cell_type": "markdown",
      "source": [
        "ANS 22.\n",
        "\n",
        "Both `@staticmethod` and `@classmethod` are *decorators* used to define methods in a class, but they behave differently.\n",
        "\n",
        "\n",
        "1. **`@staticmethod` :**\n",
        "- Does not take self or cls as a parameter.\n",
        "- It behaves like a regular function but belongs to the class.\n",
        "- Used when a method does not need to access instance (self) or class (cls) variables.\n",
        "- Example of `@staticmethod`:"
      ],
      "metadata": {
        "id": "JfpkFI8N4xDJ"
      }
    },
    {
      "cell_type": "code",
      "source": [
        "class MathOperations:\n",
        "  @staticmethod\n",
        "  def add(a, b):\n",
        "    return a + b\n",
        "\n",
        "# Can be called using the class name (No instance needed)\n",
        "print(MathOperations.add(5, 3))"
      ],
      "metadata": {
        "colab": {
          "base_uri": "https://localhost:8080/"
        },
        "id": "PmGt1vu760eQ",
        "outputId": "c5c17503-e759-4e25-c980-413c1a342fb7"
      },
      "execution_count": 2,
      "outputs": [
        {
          "output_type": "stream",
          "name": "stdout",
          "text": [
            "8\n"
          ]
        }
      ]
    },
    {
      "cell_type": "markdown",
      "source": [
        "2. **`@classmethod` :**\n",
        "- Takes `cls` as the first parameter.\n",
        "- It can modify class-level attributes but cannot access instance (self) variables.\n",
        "- Used for *factory methods* or when a method needs to work with class-level data.\n",
        "- Example of `@classmethod`:"
      ],
      "metadata": {
        "id": "nAqq-c9z67Qv"
      }
    },
    {
      "cell_type": "code",
      "source": [
        "class Employee:\n",
        "  company = \"TechCorp\"  # Class variable\n",
        "\n",
        "  @classmethod\n",
        "  def change_company(cls, new_name):\n",
        "    cls.company = new_name  # Modifies class attribute\n",
        "\n",
        "# Calling without creating an instance\n",
        "Employee.change_company(\"CodeLabs\")\n",
        "print(Employee.company)"
      ],
      "metadata": {
        "colab": {
          "base_uri": "https://localhost:8080/"
        },
        "id": "vxtllAMi7QBC",
        "outputId": "9a2aefc9-7169-4f3c-f605-223389787b47"
      },
      "execution_count": 3,
      "outputs": [
        {
          "output_type": "stream",
          "name": "stdout",
          "text": [
            "CodeLabs\n"
          ]
        }
      ]
    },
    {
      "cell_type": "markdown",
      "source": [
        "## Q23. How does polymorphism work in Python with inheritance?"
      ],
      "metadata": {
        "id": "WZ0J7qWtA-_n"
      }
    },
    {
      "cell_type": "markdown",
      "source": [
        "ANS 23.\n",
        "  \n",
        "\n",
        "**Polymorphism** allows objects of different classes to be treated as objects of a common superclass. It enables method overriding, where a subclass provides a specific implementation of a method that is already defined in its parent class.  \n",
        "\n",
        "1. **Polymorphism with Method Overriding:**\n",
        "When a subclass overrides a method from the parent class, Python automatically calls the subclass method when invoked on an instance of the subclass.\n",
        "\n",
        "2. **Polymorphism with Function Calls:**\n",
        "A function can accept objects of different classes and call their overridden methods.\n",
        "\n",
        "3. **Polymorphism with Inheritance and `super()`:**\n",
        "The super() function allows calling methods from the parent class in a subclass.\n",
        "\n",
        "Each subclass extends the behavior of description() while still calling the parent method."
      ],
      "metadata": {
        "id": "cDybmZb477yH"
      }
    },
    {
      "cell_type": "markdown",
      "source": [
        "## Q24. What is method chaining in Python OOP?"
      ],
      "metadata": {
        "id": "FwQYCLtjBEKo"
      }
    },
    {
      "cell_type": "markdown",
      "source": [
        "ANS 24.\n",
        "\n",
        "**Method chaining** is a technique in **Object-Oriented Programming (OOP)** where multiple methods are called *on the same object in a single statement*. This is done by making each method return `self` (the instance), allowing another method to be called immediately.\n",
        "\n",
        "- **How Method Chaining Works:**\n",
        " - Each method in the chain *returns the object (self)*.\n",
        " - This allows multiple method calls *to be linked together* in a single line.\n",
        " - Example of Method Chaining:"
      ],
      "metadata": {
        "id": "fbkrk1UC-mfA"
      }
    },
    {
      "cell_type": "code",
      "source": [
        "class Person:\n",
        "  def __init__(self, name):\n",
        "    self.name = name\n",
        "    self.age = None\n",
        "    self.city = None\n",
        "\n",
        "  def set_age(self, age):\n",
        "    self.age = age\n",
        "    return self  # Returning self enables method chaining\n",
        "\n",
        "  def set_city(self, city):\n",
        "    self.city = city\n",
        "    return self  # Returning self enables method chaining\n",
        "\n",
        "  def display(self):\n",
        "    print(f\"Name: {self.name}, Age: {self.age}, City: {self.city}\")\n",
        "    return self  # Returning self allows further chaining if needed\n",
        "\n",
        "# Using method chaining\n",
        "# Here, instead of calling methods separately, we *chain* them together in one line.\n",
        "person = Person(\"Sadiqua\").set_age(24).set_city(\"Raipur\").display()"
      ],
      "metadata": {
        "colab": {
          "base_uri": "https://localhost:8080/"
        },
        "id": "o1EIxb0E_qxQ",
        "outputId": "04411f3e-211d-4f24-edfa-214ec5b36c6f"
      },
      "execution_count": 5,
      "outputs": [
        {
          "output_type": "stream",
          "name": "stdout",
          "text": [
            "Name: Sadiqua, Age: 24, City: Raipur\n"
          ]
        }
      ]
    },
    {
      "cell_type": "markdown",
      "source": [
        "## Q25. What is the purpose of the `_call__` method in Python?"
      ],
      "metadata": {
        "id": "AeBBA_CiBObZ"
      }
    },
    {
      "cell_type": "markdown",
      "source": [
        "ANS 25.\n",
        "\n",
        "The `__call__` method in Python *allows an instance of a class to be called like a function*. When we define `__call__` inside a class, we can create objects that behave like functions.\n",
        "\n",
        "-  **Why Use `__call__`?**\n",
        "1. Makes an object callable like a function  \n",
        "2. Useful for implementing function-like behavior inside classes  \n",
        "3. Enhances readability when an instance represents a single-use action  \n",
        "4. Used in decorators, factories, and wrappers  \n",
        "\n",
        "- **Common Use Cases of `__call__`:**\n",
        "1. *Encapsulating Function Logic in an Object:*\n",
        "   - Instead of defining a regular function, store behavior in an object.\n",
        "\n",
        "2. *Implementing Decorators:*\n",
        "   - Many decorators use `__call__` to modify function behavior.\n",
        "\n",
        "3. *Creating Custom Function Wrappers:*\n",
        "   - Objects can be used as reusable function wrappers.\n",
        "\n",
        "- Example: Using __call__ to Make an Object Callable"
      ],
      "metadata": {
        "id": "hOcgsumvAeod"
      }
    },
    {
      "cell_type": "code",
      "source": [
        "class Multiplier:\n",
        "  def __init__(self, factor):\n",
        "    self.factor = factor\n",
        "\n",
        "  def __call__(self, value):\n",
        "    return value * self.factor\n",
        "\n",
        "# Creating an object\n",
        "double = Multiplier(2)  # Factor is 2\n",
        "triple = Multiplier(3)  # Factor is 3\n",
        "\n",
        "# Using the object like a function\n",
        "print(double(5))\n",
        "print(triple(5))\n",
        "\n",
        "#Here, Multiplier objects act like functions, multiplying a given value by their factor."
      ],
      "metadata": {
        "colab": {
          "base_uri": "https://localhost:8080/"
        },
        "id": "Z36eWz8dB8iX",
        "outputId": "3f579c8a-ddb0-4623-9397-a8b1f45b0a00"
      },
      "execution_count": 7,
      "outputs": [
        {
          "output_type": "stream",
          "name": "stdout",
          "text": [
            "10\n",
            "15\n"
          ]
        }
      ]
    },
    {
      "cell_type": "markdown",
      "source": [
        "# **PRACTICAL QUESTIONS**"
      ],
      "metadata": {
        "id": "va-NswRqB7kF"
      }
    },
    {
      "cell_type": "markdown",
      "source": [
        "### Q1. Create a parent class Animal with a method speak() that prints a generic message. Create a child class Dog that overrides the speak() method to print \"Bark!\"."
      ],
      "metadata": {
        "id": "QYTud6-7CMIg"
      }
    },
    {
      "cell_type": "code",
      "source": [
        "class Animal:\n",
        "  def speak(self):\n",
        "    print(\"Inside Animal Class.\")\n",
        "class Dog(Animal):\n",
        "  def speak(self):\n",
        "    print(\"Bark!\")\n",
        "\n",
        "a = Dog()\n",
        "a.speak()"
      ],
      "metadata": {
        "colab": {
          "base_uri": "https://localhost:8080/"
        },
        "id": "tgOmh4_KCYmw",
        "outputId": "a5095b7e-2884-46db-bdd4-f28dafb1043a"
      },
      "execution_count": null,
      "outputs": [
        {
          "output_type": "stream",
          "name": "stdout",
          "text": [
            "Bark!\n"
          ]
        }
      ]
    },
    {
      "cell_type": "markdown",
      "source": [
        "### Q2. Write a program to create an abstract class Shape with a method area(). Derive classes Circle and Rectangle from it and implement the area() method in both."
      ],
      "metadata": {
        "id": "8TPSgm1VCZWp"
      }
    },
    {
      "cell_type": "code",
      "source": [
        "import abc\n",
        "import math\n",
        "\n",
        "class Shape:\n",
        "  @abc.abstractmethod\n",
        "  def area(self):\n",
        "    pass\n",
        "\n",
        "class Circle(Shape):\n",
        "  def __init__(self, radius):\n",
        "    self.radius = radius\n",
        "\n",
        "  def area(self):\n",
        "    return  f\"Area of circle : {math.pi * self.radius**2}\"\n",
        "\n",
        "\n",
        "class Rectangle(Shape):\n",
        "  def __init__(self, length, breadth):\n",
        "    self.length = length\n",
        "    self.breadth = breadth\n",
        "\n",
        "  def area(self):\n",
        "    return  f\"Area of rectangle : {self.length * self.breadth}\"\n",
        "\n",
        "circ = Circle(5)\n",
        "print(circ.area())\n",
        "\n",
        "rect = Rectangle(10, 8)\n",
        "print(rect.area())"
      ],
      "metadata": {
        "id": "e0M8KF6zCmHx",
        "colab": {
          "base_uri": "https://localhost:8080/"
        },
        "outputId": "f976335c-b3d5-4d9d-aeac-8dedec9cb03d"
      },
      "execution_count": 11,
      "outputs": [
        {
          "output_type": "stream",
          "name": "stdout",
          "text": [
            "Area of circle : 78.53981633974483\n",
            "Area of rectangle : 80\n"
          ]
        }
      ]
    },
    {
      "cell_type": "markdown",
      "source": [
        "### Q3.  Implement a multi-level inheritance scenario where a class Vehicle has an attribute type. Derive a class Car and further derive a class ElectricCar that adds a battery attribute."
      ],
      "metadata": {
        "id": "JTO-vZANCmyK"
      }
    },
    {
      "cell_type": "code",
      "source": [
        "class Vehicle:\n",
        "  def __init__(self, vehicle_type):\n",
        "    self.vehicle_type = vehicle_type\n",
        "\n",
        "\n",
        "class Car(Vehicle):\n",
        "  def __init__(self):\n",
        "    self.vehicle_type = \"Car\"\n",
        "\n",
        "class ElectricCar(Car):\n",
        "  def __init__(self, battery):\n",
        "    self.battery = battery\n",
        "\n",
        "x = ElectricCar(100)\n",
        "x.battery"
      ],
      "metadata": {
        "id": "x5hR94-gC_At",
        "colab": {
          "base_uri": "https://localhost:8080/"
        },
        "outputId": "91fc70fe-ea49-4db0-f341-6977534a6374"
      },
      "execution_count": null,
      "outputs": [
        {
          "output_type": "execute_result",
          "data": {
            "text/plain": [
              "100"
            ]
          },
          "metadata": {},
          "execution_count": 55
        }
      ]
    },
    {
      "cell_type": "markdown",
      "source": [
        "### Q4. Demonstrate polymorphism by creating a base class Bird with a method fly(). Create two derived classes Sparrow and Penguin that override the fly() method.\n"
      ],
      "metadata": {
        "id": "ibXySn4iC_W-"
      }
    },
    {
      "cell_type": "code",
      "source": [
        "class Bird:\n",
        "  def fly(self):\n",
        "    print(\"I'm a bird.\")\n",
        "\n",
        "class Sparrow(Bird):\n",
        "  def fly(self):\n",
        "    print(\"I'm a Sparrow.\")\n",
        "\n",
        "class Penguin(Bird):\n",
        "  def fly(self):\n",
        "    print(\"I'm a Penguin.\")\n",
        "\n",
        "b = Sparrow()\n",
        "c = Penguin()\n",
        "\n",
        "b.fly()\n",
        "c.fly()"
      ],
      "metadata": {
        "colab": {
          "base_uri": "https://localhost:8080/"
        },
        "id": "ffNd5K4sDJwm",
        "outputId": "b3bd56b5-ba2f-4362-8992-6718e40fb866"
      },
      "execution_count": null,
      "outputs": [
        {
          "output_type": "stream",
          "name": "stdout",
          "text": [
            "I'm a Sparrow.\n",
            "I'm a Penguin.\n"
          ]
        }
      ]
    },
    {
      "cell_type": "markdown",
      "source": [
        "### Q5. Write a program to demonstrate encapsulation by creating a class BankAccount with private attributes balance and methods to deposit, withdraw, and check balance."
      ],
      "metadata": {
        "id": "Idf2lpoNDKDu"
      }
    },
    {
      "cell_type": "code",
      "source": [
        "class BankAccount:\n",
        "  def __init__(self, balance):\n",
        "    self.__balance = balance\n",
        "\n",
        "  def deposit(self, amount):\n",
        "    self.__balance = self.__balance + amount\n",
        "\n",
        "  def withdraw(self, amount):\n",
        "    if self.__balance >= amount:\n",
        "      self.__balance = self.__balance - amount\n",
        "      return True\n",
        "    else:\n",
        "      return False\n",
        "\n",
        "  def check_balance(self):\n",
        "    return self.__balance\n",
        "\n",
        "acc = BankAccount(5000)\n",
        "print(acc.check_balance())\n",
        "acc.withdraw(1000)\n",
        "print(acc.check_balance())\n",
        "acc.deposit(3000)\n",
        "print(acc.check_balance())"
      ],
      "metadata": {
        "id": "sxSTkOx-DYMH",
        "colab": {
          "base_uri": "https://localhost:8080/"
        },
        "outputId": "b8d1514e-0a5c-459c-e94d-ce2066323f75"
      },
      "execution_count": null,
      "outputs": [
        {
          "output_type": "stream",
          "name": "stdout",
          "text": [
            "5000\n",
            "4000\n",
            "7000\n"
          ]
        }
      ]
    },
    {
      "cell_type": "markdown",
      "source": [
        "### Q6.  Demonstrate runtime polymorphism using a method play() in a base class Instrument. Derive classes Guitar and Piano that implement their own version of play()."
      ],
      "metadata": {
        "id": "VoAeSj0vDYnP"
      }
    },
    {
      "cell_type": "code",
      "source": [
        "class Instrument:\n",
        "  def play(self):\n",
        "    print(\"Playing an instrument\")\n",
        "\n",
        "class Guitar(Instrument):\n",
        "  def play(self):\n",
        "    print(\"Strumming the guitar\")\n",
        "\n",
        "class Piano(Instrument):\n",
        "  def play(self):\n",
        "    print(\"Playing the piano\")\n",
        "\n",
        "# Runtime polymorphism in action\n",
        "def start_playing(instrument):\n",
        "  instrument.play()  # Calls the overridden method based on the object type\n",
        "\n",
        "guitar = Guitar()\n",
        "piano = Piano()\n",
        "instrument = Instrument()\n",
        "\n",
        "start_playing(guitar)\n",
        "start_playing(piano)\n",
        "start_playing(instrument)"
      ],
      "metadata": {
        "id": "XcoX3QuMDhwh",
        "colab": {
          "base_uri": "https://localhost:8080/"
        },
        "outputId": "fa466658-d360-43a4-956a-11bfae89c6a6"
      },
      "execution_count": 10,
      "outputs": [
        {
          "output_type": "stream",
          "name": "stdout",
          "text": [
            "Strumming the guitar\n",
            "Playing the piano\n",
            "Playing an instrument\n"
          ]
        }
      ]
    },
    {
      "cell_type": "markdown",
      "source": [
        "### Q7. Create a class MathOperations with a class method add_numbers() to add two numbers and a static method subtract_numbers() to subtract two numbers."
      ],
      "metadata": {
        "id": "AHe8ZefwDiEx"
      }
    },
    {
      "cell_type": "code",
      "source": [
        "class MathOperations:\n",
        "\n",
        "  @classmethod\n",
        "  def add_numbers(cls, x, y):\n",
        "    return x + y\n",
        "\n",
        "  @staticmethod\n",
        "  def subtract_numbers(x, y):\n",
        "    return x - y\n",
        "\n",
        "print(MathOperations.add_numbers(10, 5))\n",
        "print(MathOperations.subtract_numbers(10, 5))"
      ],
      "metadata": {
        "colab": {
          "base_uri": "https://localhost:8080/"
        },
        "id": "HZvkyP6-DtSb",
        "outputId": "11927a4d-f081-4bd4-c5df-ee30395012f5"
      },
      "execution_count": null,
      "outputs": [
        {
          "output_type": "stream",
          "name": "stdout",
          "text": [
            "15\n",
            "5\n"
          ]
        }
      ]
    },
    {
      "cell_type": "markdown",
      "source": [
        "### Q8.  Implement a class Person with a class method to count the total number of persons created.\n",
        "\n",
        "\n"
      ],
      "metadata": {
        "id": "uBka7d6jDthC"
      }
    },
    {
      "cell_type": "code",
      "source": [
        "class Person:\n",
        "  count = 0\n",
        "\n",
        "  def __init__(self, name):\n",
        "    self.name = name\n",
        "    Person.count += 1\n",
        "\n",
        "  @classmethod\n",
        "  def get_person_count(cls):\n",
        "    return f\"Total persons created: {cls.count}\"\n",
        "\n",
        "p1 = Person(\"Sadiqua\")\n",
        "p2 = Person(\"Sadiqua's mother\")\n",
        "p3 = Person(\"Sadiqua's father\")\n",
        "\n",
        "Person.get_person_count()"
      ],
      "metadata": {
        "id": "nc_-_Bo6IxAk",
        "colab": {
          "base_uri": "https://localhost:8080/",
          "height": 35
        },
        "outputId": "2a461b75-8df6-4fea-9207-e8d24ff31eb0"
      },
      "execution_count": null,
      "outputs": [
        {
          "output_type": "execute_result",
          "data": {
            "text/plain": [
              "'Total persons created: 3'"
            ],
            "application/vnd.google.colaboratory.intrinsic+json": {
              "type": "string"
            }
          },
          "metadata": {},
          "execution_count": 38
        }
      ]
    },
    {
      "cell_type": "markdown",
      "source": [
        "### Q9. Write a class Fraction with attributes numerator and denominator. Override the str method to display the fraction as \"numerator/denominator\"."
      ],
      "metadata": {
        "id": "m1YqmFpIIxSr"
      }
    },
    {
      "cell_type": "code",
      "source": [
        "class Fraction:\n",
        "  def __init__(self, numerator, denominator):\n",
        "    self.numerator = numerator\n",
        "    self.denominator = denominator\n",
        "\n",
        "  def __str__(self):\n",
        "    return f\"{self.numerator}/{self.denominator}\"\n",
        "\n",
        "f1 = Fraction(555, 79)\n",
        "print(f1)"
      ],
      "metadata": {
        "id": "C6dmRK8CJDNl",
        "colab": {
          "base_uri": "https://localhost:8080/"
        },
        "outputId": "203be8ae-d98e-4130-8f3b-b49b61cf24bf"
      },
      "execution_count": null,
      "outputs": [
        {
          "output_type": "stream",
          "name": "stdout",
          "text": [
            "555/79\n"
          ]
        }
      ]
    },
    {
      "cell_type": "markdown",
      "source": [
        "### Q10. Demonstrate operator overloading by creating a class Vector and overriding the add method to add two vectors.\n",
        "\n",
        "\n"
      ],
      "metadata": {
        "id": "Wt1nyhiaJDa9"
      }
    },
    {
      "cell_type": "code",
      "source": [
        "class Vector:\n",
        "  def __init__(self, x, y, z):\n",
        "    self.x = x\n",
        "    self.y = y\n",
        "    self.z = z\n",
        "\n",
        "  def __add__(self, other):\n",
        "    return Vector(self.x + other.x, self.y  + other.y, self.z + other.z)\n",
        "\n",
        "  def __str__(self):\n",
        "    return f\"({self.x}, {self.y}, {self.z})\"\n",
        "\n",
        "v1 = Vector(2, 5, -17)\n",
        "v2 = Vector(-64, 5, 0)\n",
        "v = v1 + v2\n",
        "print(v1)\n",
        "print(v2)\n",
        "print(v)"
      ],
      "metadata": {
        "id": "7z1SM4gVJJhm",
        "colab": {
          "base_uri": "https://localhost:8080/"
        },
        "outputId": "c75241a9-88d2-4a7b-cda9-fc9c0f202158"
      },
      "execution_count": null,
      "outputs": [
        {
          "output_type": "stream",
          "name": "stdout",
          "text": [
            "(2, 5, -17)\n",
            "(-64, 5, 0)\n",
            "(-62, 10, -17)\n"
          ]
        }
      ]
    },
    {
      "cell_type": "markdown",
      "source": [
        "### Q11.   Create a class Person with attributes name and age. Add a method greet() that prints \"Hello, my name is {name} and I am {age} years old.\""
      ],
      "metadata": {
        "id": "ylWIZ0jgJJuO"
      }
    },
    {
      "cell_type": "code",
      "source": [
        "class Person:\n",
        "  def __init__(self, name, age):\n",
        "    self.name = name\n",
        "    self.age = age\n",
        "\n",
        "  def greet(self):\n",
        "    return f\" Hello, my name is {self.name} and I am {self.age} years old.\"\n",
        "\n",
        "d = Person(\"SADIQUA\", 24)\n",
        "d.greet()"
      ],
      "metadata": {
        "colab": {
          "base_uri": "https://localhost:8080/",
          "height": 35
        },
        "id": "fkdAagHOR5L4",
        "outputId": "8238c474-8ccb-4899-f1e2-d84072efc100"
      },
      "execution_count": 13,
      "outputs": [
        {
          "output_type": "execute_result",
          "data": {
            "text/plain": [
              "' Hello, my name is SADIQUA and I am 24 years old.'"
            ],
            "application/vnd.google.colaboratory.intrinsic+json": {
              "type": "string"
            }
          },
          "metadata": {},
          "execution_count": 13
        }
      ]
    },
    {
      "cell_type": "markdown",
      "source": [
        "### Q12.  Implement a class Student with attributes name and grades. Create a method average_grade() to compute the average of the grades."
      ],
      "metadata": {
        "id": "0UkC_uppR5WY"
      }
    },
    {
      "cell_type": "code",
      "source": [
        "class Student:\n",
        "  def __init__(self, name, grades):\n",
        "    self.name = name\n",
        "    self.grades = grades\n",
        "\n",
        "  def average_grade(self):\n",
        "    if not self.grades:\n",
        "      return 0 #returning 0 to avoid division by zero\n",
        "    return f\"The average of all grades is: {sum(self.grades) / len(self.grades)}\"\n",
        "\n",
        "\n",
        "stud = Student(\"Sadiqua\", [95, 95, 95, 93, 97])\n",
        "stud.average_grade()"
      ],
      "metadata": {
        "id": "BxfgJBgXSAki",
        "colab": {
          "base_uri": "https://localhost:8080/",
          "height": 36
        },
        "outputId": "f4ba81d3-dc9f-48a5-a8ce-dab61f5cb716"
      },
      "execution_count": null,
      "outputs": [
        {
          "output_type": "execute_result",
          "data": {
            "text/plain": [
              "'The average of all grades is: 95.0'"
            ],
            "application/vnd.google.colaboratory.intrinsic+json": {
              "type": "string"
            }
          },
          "metadata": {},
          "execution_count": 5
        }
      ]
    },
    {
      "cell_type": "markdown",
      "source": [
        "### Q13.  Create a class Rectangle with methods set_dimensions() to set the dimensions and area() to calculate the area."
      ],
      "metadata": {
        "id": "QVqmtqb3SAqZ"
      }
    },
    {
      "cell_type": "code",
      "source": [
        "class Rectangle:\n",
        "  def __init__(self, length = 0, breadth = 0):\n",
        "    self.length = length\n",
        "    self.breadth = breadth\n",
        "\n",
        "  def set_dimensions(self, length, breadth):\n",
        "    self.length = length\n",
        "    self.breadth = breadth\n",
        "\n",
        "  def area(self):\n",
        "    return f\"The area of rectangle is {self.length * self.breadth} sq. units.\"\n",
        "\n",
        "rect = Rectangle()\n",
        "rect.set_dimensions(10, 6)\n",
        "rect.area()"
      ],
      "metadata": {
        "id": "dQQdUNL8SLMj",
        "colab": {
          "base_uri": "https://localhost:8080/",
          "height": 36
        },
        "outputId": "776e93e1-ad65-47f2-c532-5eb672f4d54b"
      },
      "execution_count": null,
      "outputs": [
        {
          "output_type": "execute_result",
          "data": {
            "text/plain": [
              "'The area of rectangle is 60 sq. units.'"
            ],
            "application/vnd.google.colaboratory.intrinsic+json": {
              "type": "string"
            }
          },
          "metadata": {},
          "execution_count": 14
        }
      ]
    },
    {
      "cell_type": "markdown",
      "source": [
        "### Q14.  Create a class Employee with a method calculate_salary() that computes the salary based on hours worked and hourly rate. Create a derived class Manager that adds a bonus to the salary."
      ],
      "metadata": {
        "id": "FByaw5H7SLUB"
      }
    },
    {
      "cell_type": "code",
      "source": [
        "class Employee:\n",
        "  def __init__(self, name, hours_worked, hourly_rate):\n",
        "    self.name = name\n",
        "    self.hours_worked = hours_worked\n",
        "    self.hourly_rate = hourly_rate\n",
        "\n",
        "  def calculate_salary(self):\n",
        "    return self.hours_worked * self.hourly_rate\n",
        "\n",
        "class Manager(Employee):\n",
        "  def __init__(self, name, hours_worked, hourly_rate, bonus):\n",
        "    super().__init__(name, hours_worked, hourly_rate)\n",
        "    self.bonus = bonus\n",
        "\n",
        "  def calculate_salary(self):\n",
        "    return super().calculate_salary() + self.bonus\n",
        "\n",
        "\n",
        "emp = Employee(\"Ritika\", 169, 1000)\n",
        "manager = Manager(\"Mitika\", 169, 1000, 10000)\n",
        "manager.calculate_salary()"
      ],
      "metadata": {
        "id": "95AEQ6AGSQjy",
        "colab": {
          "base_uri": "https://localhost:8080/"
        },
        "outputId": "cfc5b53a-a480-404a-f076-4a8b02fd0da5"
      },
      "execution_count": null,
      "outputs": [
        {
          "output_type": "execute_result",
          "data": {
            "text/plain": [
              "179000"
            ]
          },
          "metadata": {},
          "execution_count": 25
        }
      ]
    },
    {
      "cell_type": "markdown",
      "source": [
        "### Q15.  Create a class Product with attributes name, price, and quantity. Implement a method total_price() that calculates the total price of the product.\n",
        "\n",
        "\n"
      ],
      "metadata": {
        "id": "UyISAiOqSQwa"
      }
    },
    {
      "cell_type": "code",
      "source": [
        "class Product:\n",
        "  def __init__(self, name, price, quantity):\n",
        "    self.name = name\n",
        "    self.price = price\n",
        "    self.quantity = quantity\n",
        "\n",
        "  def total_price(self):\n",
        "    return f\"The total price of the product is Rs.{self.price * self.quantity}.\"\n",
        "\n",
        "prod = Product(\"Battery\", 45, 9)\n",
        "prod.total_price()"
      ],
      "metadata": {
        "id": "hcZ9Pr2JScs9",
        "colab": {
          "base_uri": "https://localhost:8080/",
          "height": 36
        },
        "outputId": "00b5f1a3-119a-49b4-85ef-e7980ef4bdb2"
      },
      "execution_count": null,
      "outputs": [
        {
          "output_type": "execute_result",
          "data": {
            "text/plain": [
              "'The total price of the product is Rs.405.'"
            ],
            "application/vnd.google.colaboratory.intrinsic+json": {
              "type": "string"
            }
          },
          "metadata": {},
          "execution_count": 31
        }
      ]
    },
    {
      "cell_type": "markdown",
      "source": [
        "### Q16. Create a class Animal with an abstract method sound(). Create two derived classes Cow and Sheep that implement the sound() method."
      ],
      "metadata": {
        "id": "5_-KyV-ySc08"
      }
    },
    {
      "cell_type": "code",
      "source": [
        "import abc\n",
        "\n",
        "class Animal:\n",
        "  @abc.abstractmethod\n",
        "  def sound(self):\n",
        "    pass\n",
        "\n",
        "class Cow(Animal):\n",
        "  def sound(self):\n",
        "    return f\"The sound of a cow is moo.\"\n",
        "\n",
        "class Sheep(Animal):\n",
        "  def sound(self):\n",
        "    return f\"The sound of a sheep is bleat(baa).\"\n",
        "\n",
        "\n",
        "cow = Cow()\n",
        "sheep = Sheep()\n",
        "print(cow.sound())\n",
        "print(sheep.sound())"
      ],
      "metadata": {
        "id": "_p1PTR_ZSmK-",
        "colab": {
          "base_uri": "https://localhost:8080/"
        },
        "outputId": "46e54dcb-8875-4e59-c536-f966220aa643"
      },
      "execution_count": null,
      "outputs": [
        {
          "output_type": "stream",
          "name": "stdout",
          "text": [
            "The sound of a cow is moo.\n",
            "The sound of a sheep is bleat(baa).\n"
          ]
        }
      ]
    },
    {
      "cell_type": "markdown",
      "source": [
        "### Q17.  Create a class Book with attributes title, author, and year_published. Add a method get_book_info() that returns a formatted string with the book's details."
      ],
      "metadata": {
        "id": "1YJkmaJmSmSF"
      }
    },
    {
      "cell_type": "code",
      "source": [
        "class Book:\n",
        "  def __init__(self, title, author, year_published):\n",
        "    self.title = title\n",
        "    self.author = author\n",
        "    self.year_published = year_published\n",
        "\n",
        "  def get_book_info(self):\n",
        "    return f\"{self.title} by {self.author} was published in {self.year_published}.\"\n",
        "\n",
        "\n",
        "book = Book(\"Harry Potter and The Philosopher's Stone\", \"J.K.Rowling\", 1997)\n",
        "book.get_book_info()"
      ],
      "metadata": {
        "id": "li6OuhR7SshO",
        "colab": {
          "base_uri": "https://localhost:8080/",
          "height": 36
        },
        "outputId": "104b7aa6-296b-401c-d330-883019c92c26"
      },
      "execution_count": null,
      "outputs": [
        {
          "output_type": "execute_result",
          "data": {
            "text/plain": [
              "\"Harry Potter and The Philosopher's Stone by J.K.Rowling was published in 1997.\""
            ],
            "application/vnd.google.colaboratory.intrinsic+json": {
              "type": "string"
            }
          },
          "metadata": {},
          "execution_count": 47
        }
      ]
    },
    {
      "cell_type": "markdown",
      "source": [
        "### Q18. Create a class House with attributes address and price. Create a derived class Mansion that adds an attribute number_of_rooms."
      ],
      "metadata": {
        "id": "R5Txe2gxSsre"
      }
    },
    {
      "cell_type": "code",
      "source": [
        "class House:\n",
        "  def __init__(self, address, price):\n",
        "    self.address = address\n",
        "    self.price = price\n",
        "\n",
        "  def get_info(self):\n",
        "    return f\"Address: {self.address} and Price: {self.price}\"\n",
        "\n",
        "class Mansion(House):\n",
        "  def __init__(self, address, price, number_of_rooms):\n",
        "    super().__init__(address, price)\n",
        "    self.number_of_rooms = number_of_rooms\n",
        "\n",
        "  def get_info(self):\n",
        "    return f\"Address: {self.address}, Price: {self.price}, Number of rooms: {self.number_of_rooms}\"\n",
        "\n",
        "h1 = House(\"123 Main Street\", 12345000)\n",
        "h2 = Mansion(\"456 Main Street\", 56789000, 15)\n",
        "print(h1.get_info())\n",
        "print(h2.get_info())"
      ],
      "metadata": {
        "id": "DSu1NKhrSy6H",
        "colab": {
          "base_uri": "https://localhost:8080/"
        },
        "outputId": "d45c54a2-8090-46c4-ce25-00bc3aacb550"
      },
      "execution_count": null,
      "outputs": [
        {
          "output_type": "stream",
          "name": "stdout",
          "text": [
            "Address: 123 Main Street and Price: 12345000\n",
            "Address: 456 Main Street, Price: 56789000, Number of rooms: 15\n"
          ]
        }
      ]
    }
  ]
}